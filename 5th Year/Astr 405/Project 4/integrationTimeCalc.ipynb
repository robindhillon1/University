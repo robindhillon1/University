{
 "cells": [
  {
   "cell_type": "code",
   "execution_count": 1,
   "metadata": {},
   "outputs": [],
   "source": [
    "import numpy as np\n",
    "import matplotlib.pyplot as plt\n",
    "from sympy import symbols, solve\n",
    "from astropy import time\n",
    "import astropy.units as u\n",
    "import datetime"
   ]
  },
  {
   "cell_type": "code",
   "execution_count": 69,
   "metadata": {},
   "outputs": [],
   "source": [
    "def Ta(x):\n",
    "    Ta = 10**(-0.4*0.2*x)\n",
    "    return Ta\n",
    "\n",
    "airmass = np.asarray([1.002,1.004,1.007,1.001,1.004,1.000,1.011,1.000,1.025,1.000])"
   ]
  },
  {
   "cell_type": "code",
   "execution_count": 72,
   "metadata": {},
   "outputs": [
    {
     "name": "stdout",
     "output_type": "stream",
     "text": [
      "Mag: 17.4, Integration time: 13.382s\n",
      "Mag: 17.9, Integration time: 26.196s\n",
      "Mag: 17.76, Integration time: 21.586s\n",
      "Mag: 17.27, Integration time: 11.346s\n",
      "Mag: 17.66, Integration time: 18.836s\n",
      "Mag: 16.72, Integration time: 5.875s\n",
      "Mag: 13.35, Integration time: 0.206s\n",
      "Mag: 14.02, Integration time: 0.385s\n",
      "Mag: 17.39, Integration time: 13.267s\n",
      "Mag: 17.39, Integration time: 13.207s\n",
      "\n",
      "Total time required: 124.285s\n"
     ]
    }
   ],
   "source": [
    "t = symbols('t')\n",
    "\n",
    "C = 1000\n",
    "band = 991  # bandpass is 99.1 nm. \n",
    "A = 0.85*np.pi*(185/2)**2  # 85% effective area\n",
    "Qe = 0.84\n",
    "Qs = Ta(airmass)\n",
    "V = np.asarray([17.4,17.9,17.76,17.27,17.66,16.72,13.35,14.02,17.39,17.39])\n",
    "muV = 21\n",
    "FWHM = 3  # seeing is 3\"\n",
    "sigma = 5\n",
    "numPix = (9*np.pi)/(0.322**2)\n",
    "SN = 100\n",
    "\n",
    "timeList = []\n",
    "\n",
    "for i in range(len(Qs)):\n",
    "    Ns = (C*band*A*Qe*Qs[i]*10**(-0.4*V[i]))*t\n",
    "    Nb = (C*band*A*Qe*Qs[i]*10**(-0.4*muV)*np.pi*FWHM**2)*t\n",
    "    expr = SN - Ns/((Nb+Ns+(numPix*sigma**2)))**0.5\n",
    "    times = solve(expr)\n",
    "    timeList.append(times)\n",
    "    print(\"Mag: {}, Integration time: {:.3f}s\".format(V[i],times[0]))\n",
    "\n",
    "print(\"\\nTotal time required: {:.3f}s\".format(np.sum(timeList)))"
   ]
  },
  {
   "cell_type": "code",
   "execution_count": 76,
   "metadata": {},
   "outputs": [
    {
     "name": "stdout",
     "output_type": "stream",
     "text": [
      "Mag: 20, Integration time: 778.518s\n",
      "Mag: 20, Integration time: 778.805s\n",
      "Mag: 20, Integration time: 779.236s\n",
      "Mag: 20, Integration time: 778.375s\n",
      "Mag: 20, Integration time: 778.805s\n",
      "Mag: 20, Integration time: 778.232s\n",
      "Mag: 20, Integration time: 779.810s\n",
      "Mag: 20, Integration time: 778.232s\n",
      "Mag: 20, Integration time: 781.824s\n",
      "Mag: 20, Integration time: 778.232s\n",
      "\n",
      "Total time required: 2.164s\n"
     ]
    }
   ],
   "source": [
    "t = symbols('t')\n",
    "\n",
    "C = 1000\n",
    "band = 991  # bandpass is 99.1 nm. \n",
    "A = 0.85*np.pi*(185/2)**2  # 85% effective area\n",
    "Qe = 0.84\n",
    "Qs = Ta(airmass)\n",
    "V = np.asarray([20,20,20,20,20,20,20,20,20,20])\n",
    "muV = 21\n",
    "FWHM = 3  # seeing is 3\"\n",
    "sigma = 5\n",
    "numPix = (9*np.pi)/(0.322**2)\n",
    "SN = 100\n",
    "\n",
    "timeList = []\n",
    "\n",
    "for i in range(len(Qs)):\n",
    "    Ns = (C*band*A*Qe*Qs[i]*10**(-0.4*V[i]))*t\n",
    "    Nb = (C*band*A*Qe*Qs[i]*10**(-0.4*muV)*np.pi*FWHM**2)*t\n",
    "    expr = SN - Ns/((Nb+Ns+(numPix*sigma**2)))**0.5\n",
    "    times = solve(expr)\n",
    "    timeList.append(times)\n",
    "    print(\"Mag: {}, Integration time: {:.3f}s\".format(V[i],times[0]))\n",
    "\n",
    "print(\"\\nTotal time required: {:.3f}s\".format(np.sum(timeList)))"
   ]
  },
  {
   "cell_type": "code",
   "execution_count": null,
   "metadata": {},
   "outputs": [],
   "source": []
  }
 ],
 "metadata": {
  "kernelspec": {
   "display_name": "Python 3",
   "language": "python",
   "name": "python3"
  },
  "language_info": {
   "codemirror_mode": {
    "name": "ipython",
    "version": 3
   },
   "file_extension": ".py",
   "mimetype": "text/x-python",
   "name": "python",
   "nbconvert_exporter": "python",
   "pygments_lexer": "ipython3",
   "version": "3.7.7"
  }
 },
 "nbformat": 4,
 "nbformat_minor": 4
}
