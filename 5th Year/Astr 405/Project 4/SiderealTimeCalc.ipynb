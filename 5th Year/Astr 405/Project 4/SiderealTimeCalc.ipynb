{
 "cells": [
  {
   "cell_type": "code",
   "execution_count": 1,
   "metadata": {},
   "outputs": [],
   "source": [
    "from astropy import time\n",
    "import astropy.units as u\n",
    "import datetime"
   ]
  },
  {
   "cell_type": "code",
   "execution_count": 25,
   "metadata": {},
   "outputs": [
    {
     "data": {
      "text/latex": [
       "$10^\\mathrm{h}59^\\mathrm{m}25.1978^\\mathrm{s}$"
      ],
      "text/plain": [
       "<Longitude 10.99033272 hourangle>"
      ]
     },
     "execution_count": 25,
     "metadata": {},
     "output_type": "execute_result"
    }
   ],
   "source": [
    "t2 = time.Time('2021-03-10T08:00:00', format='isot', scale='utc')\n",
    "t2.sidereal_time('mean', longitude=-123.3656)"
   ]
  },
  {
   "cell_type": "code",
   "execution_count": 27,
   "metadata": {},
   "outputs": [
    {
     "data": {
      "text/latex": [
       "$3^\\mathrm{h}47^\\mathrm{m}28.0641^\\mathrm{s}$"
      ],
      "text/plain": [
       "<Longitude 3.79112891 hourangle>"
      ]
     },
     "execution_count": 27,
     "metadata": {},
     "output_type": "execute_result"
    }
   ],
   "source": [
    "t2 = time.Time('2021-02-20T02:00:00', format='isot', scale='utc')\n",
    "t2.sidereal_time('mean', longitude=-123.3656)"
   ]
  },
  {
   "cell_type": "code",
   "execution_count": null,
   "metadata": {},
   "outputs": [],
   "source": []
  }
 ],
 "metadata": {
  "kernelspec": {
   "display_name": "Python 3",
   "language": "python",
   "name": "python3"
  },
  "language_info": {
   "codemirror_mode": {
    "name": "ipython",
    "version": 3
   },
   "file_extension": ".py",
   "mimetype": "text/x-python",
   "name": "python",
   "nbconvert_exporter": "python",
   "pygments_lexer": "ipython3",
   "version": "3.7.7"
  }
 },
 "nbformat": 4,
 "nbformat_minor": 4
}
